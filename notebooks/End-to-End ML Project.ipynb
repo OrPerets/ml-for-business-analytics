{
 "cells": [
  {
   "cell_type": "code",
   "execution_count": 1,
   "id": "0c978f33",
   "metadata": {},
   "outputs": [
    {
     "name": "stderr",
     "output_type": "stream",
     "text": [
      "/Users/orperets/opt/anaconda3/lib/python3.8/site-packages/scipy/__init__.py:138: UserWarning: A NumPy version >=1.16.5 and <1.23.0 is required for this version of SciPy (detected version 1.24.3)\n",
      "  warnings.warn(f\"A NumPy version >={np_minversion} and <{np_maxversion} is required for this version of \"\n"
     ]
    }
   ],
   "source": [
    "%matplotlib inline\n",
    "import matplotlib.pyplot as plt\n",
    "import numpy as np\n",
    "import pandas as pd\n",
    "import os\n",
    "from sklearn.preprocessing import StandardScaler, MinMaxScaler, OneHotEncoder, LabelEncoder\n",
    "from sklearn.pipeline import make_pipeline, Pipeline\n",
    "from sklearn.compose import make_column_transformer\n",
    "from sklearn.model_selection import cross_val_score, KFold, StratifiedKFold, GridSearchCV\n",
    "from sklearn.linear_model import LinearRegression, Ridge, Lasso,LogisticRegression\n",
    "from sklearn.ensemble import RandomForestRegressor, GradientBoostingRegressor, AdaBoostRegressor\n",
    "from sklearn.feature_selection import SelectFromModel\n",
    "from sklearn.svm import SVC,SVR\n",
    "from tqdm.notebook import tqdm as tqdm\n",
    "from sklearn import decomposition\n",
    "from sklearn.neighbors import KNeighborsClassifier, KNeighborsRegressor\n",
    "import seaborn as sns\n",
    "from sklearn.manifold import TSNE, LocallyLinearEmbedding, MDS\n",
    "from pandas.plotting import scatter_matrix\n",
    "from sklearn import datasets\n",
    "from sklearn.cluster import DBSCAN\n",
    "from sklearn.ensemble import IsolationForest\n",
    "from sklearn.neighbors import LocalOutlierFactor\n",
    "plt.style.use(\"bmh\")"
   ]
  },
  {
   "cell_type": "markdown",
   "id": "82a0ef55",
   "metadata": {},
   "source": [
    "# ML\n",
    "\n",
    "\n",
    "This dataset contains information on all 802 Pokemon from all Seven Generations of Pokemon. The information contained in this dataset include Base Stats, Performance against Other Types, Height, Weight, Classification, Egg Steps, Experience Points, Abilities, etc. The information was scraped from http://serebii.net/\n",
    "\n",
    "<b>The main goal is to estimate the pokemon speed</b>\n",
    "\n",
    "### Q.1 \n",
    "\n",
    "Read the attached \"pokemon.csv\" file to a DataFrame."
   ]
  },
  {
   "cell_type": "code",
   "execution_count": null,
   "id": "afc51375",
   "metadata": {},
   "outputs": [],
   "source": []
  },
  {
   "cell_type": "markdown",
   "id": "3266257d",
   "metadata": {},
   "source": [
    "### Q.2\n",
    "\n",
    "Remove the \"#\" and \"Name\" columns."
   ]
  },
  {
   "cell_type": "code",
   "execution_count": null,
   "id": "4af97e19",
   "metadata": {},
   "outputs": [],
   "source": []
  },
  {
   "cell_type": "markdown",
   "id": "66b19123",
   "metadata": {},
   "source": [
    "### Q.3\n",
    "\n",
    "Print the features name and type."
   ]
  },
  {
   "cell_type": "code",
   "execution_count": null,
   "id": "c37740b8",
   "metadata": {},
   "outputs": [],
   "source": []
  },
  {
   "cell_type": "markdown",
   "id": "c285e4bd",
   "metadata": {},
   "source": [
    "### Q.4 \n",
    "\n",
    "Handle the missing values in the dataset."
   ]
  },
  {
   "cell_type": "code",
   "execution_count": null,
   "id": "aafd9c79",
   "metadata": {},
   "outputs": [],
   "source": []
  },
  {
   "cell_type": "code",
   "execution_count": null,
   "id": "80db00f6",
   "metadata": {},
   "outputs": [],
   "source": []
  },
  {
   "cell_type": "code",
   "execution_count": null,
   "id": "1bc9f2ab",
   "metadata": {},
   "outputs": [],
   "source": []
  },
  {
   "cell_type": "markdown",
   "id": "88959da9",
   "metadata": {},
   "source": [
    "### Q.5\n",
    "\n",
    "#### 5.1\n",
    "Perform feature encoding on the categorical features. <br/>\n",
    "For each categorical feature, create LabelEncoder and transform its values."
   ]
  },
  {
   "cell_type": "code",
   "execution_count": null,
   "id": "37903d11",
   "metadata": {},
   "outputs": [],
   "source": []
  },
  {
   "cell_type": "code",
   "execution_count": null,
   "id": "6e754ccb",
   "metadata": {},
   "outputs": [],
   "source": []
  },
  {
   "cell_type": "markdown",
   "id": "f467e1ff",
   "metadata": {},
   "source": [
    "#### 5.2\n",
    "\n",
    "split to (X,y)."
   ]
  },
  {
   "cell_type": "code",
   "execution_count": null,
   "id": "b199ada3",
   "metadata": {},
   "outputs": [],
   "source": []
  },
  {
   "cell_type": "markdown",
   "id": "2bc5ca3f",
   "metadata": {},
   "source": [
    "### Q.6"
   ]
  },
  {
   "cell_type": "markdown",
   "id": "5fb3935a",
   "metadata": {},
   "source": [
    "#### 6.1\n",
    "\n",
    "Use RF and display the importance of each feature."
   ]
  },
  {
   "cell_type": "code",
   "execution_count": 3,
   "id": "12dbbaf9",
   "metadata": {},
   "outputs": [],
   "source": [
    "# RF = RandomForestRegressor(n_estimators=200, random_state=1)\n",
    "# RF.fit(X,y)\n",
    "# importances = pd.DataFrame({\n",
    "#     \"Feature\": X.columns,\n",
    "#     \"Importance\": RF.feature_importances_ * 100\n",
    "# })\n",
    "# importances = importances.sort_values(\"Importance\", ascending=False)\n",
    "# importances"
   ]
  },
  {
   "cell_type": "markdown",
   "id": "a045a16b",
   "metadata": {},
   "source": [
    "#### 6.2\n",
    "\n",
    "Remove features with importance less than 5%"
   ]
  },
  {
   "cell_type": "code",
   "execution_count": null,
   "id": "aec5611a",
   "metadata": {},
   "outputs": [],
   "source": []
  },
  {
   "cell_type": "markdown",
   "id": "075a0ab7",
   "metadata": {},
   "source": [
    "### Q.7"
   ]
  },
  {
   "cell_type": "markdown",
   "id": "22615753",
   "metadata": {},
   "source": [
    "#### 7.1\n",
    "\n",
    "Implement the function  `search_for_hyperparameters(X, y, model_name, model, param_grid)`\n",
    "\n",
    "That gets as input:\n",
    "* X - dataset\n",
    "* y - target variable\n",
    "* model_name - string\n",
    "* model - Object\n",
    "* param_grid\n",
    "\n",
    "and perform GridSearchCV\n"
   ]
  },
  {
   "cell_type": "code",
   "execution_count": 4,
   "id": "e50e2751",
   "metadata": {},
   "outputs": [],
   "source": [
    "def search_for_hyperparameters(X, y, model_name, model, param_grid):\n",
    "    pipe = Pipeline([(model_name, model)])\n",
    "    grid = GridSearchCV(pipe, param_grid=param_grid, cv=5)\n",
    "    grid.fit(X, y)\n",
    "    print(\"Test set score: {:.2f}\".format(grid.score(X, y))) # grade for training !!!!!!\n",
    "    print(\"Best parameters: {}\".format(grid.best_params_))"
   ]
  },
  {
   "cell_type": "markdown",
   "id": "b349e028",
   "metadata": {},
   "source": [
    "#### 7.2\n",
    "\n",
    "Test your method on: AdaBoostRegressor, RandomForestRegressor, SVR, KNNR\n",
    "\n",
    "* AdaBoostRegressor: learning_rate, range of [$10^{-4},10^{-3},10^{-2},10^{-1},10^{0}$]\n",
    "* RandomForestRegressor: n_estimators, max_depth\n",
    "* SVR: C (range as learning rate), gamma (range as learning rate)\n",
    "* KNN: K [3,5,7,11,13], metric\n"
   ]
  },
  {
   "cell_type": "code",
   "execution_count": 20,
   "id": "226e5a02",
   "metadata": {},
   "outputs": [],
   "source": []
  },
  {
   "cell_type": "code",
   "execution_count": null,
   "id": "c2a46fcb",
   "metadata": {},
   "outputs": [],
   "source": []
  },
  {
   "cell_type": "markdown",
   "id": "6d18e2bf",
   "metadata": {},
   "source": [
    "### Q.7\n",
    "\n",
    "Use LocalOutlierFactor (LOF) for anomaly detection. Plot the outliers ratio."
   ]
  },
  {
   "cell_type": "code",
   "execution_count": 5,
   "id": "356884d7",
   "metadata": {
    "scrolled": true
   },
   "outputs": [],
   "source": [
    "# clf = LocalOutlierFactor(n_neighbors=11)\n",
    "# y_pred = clf.fit_predict(X)\n",
    "# X['isOutlier'] = y_pred.astype(str)"
   ]
  },
  {
   "cell_type": "code",
   "execution_count": null,
   "id": "b2dbe2d4",
   "metadata": {},
   "outputs": [],
   "source": []
  },
  {
   "cell_type": "markdown",
   "id": "22d33b54",
   "metadata": {},
   "source": [
    "### Q.8\n",
    "\n",
    "Use t-SNE and plot the compressed latent space with respect to the outliers."
   ]
  },
  {
   "cell_type": "code",
   "execution_count": 32,
   "id": "6dd51350",
   "metadata": {},
   "outputs": [],
   "source": [
    "def plot_tSNE(data, labels, perplexity=[5,20,30,50]):\n",
    "    kl_divergence_iris = []\n",
    "    fig, ax = plt.subplots(1, 4, figsize=(40, 8))\n",
    "    for idx, p in enumerate(perplexity):\n",
    "        tsne = TSNE(n_components=2, random_state=0, perplexity=p)\n",
    "        tsne_data = tsne.fit_transform(data)\n",
    "        kl_divergence_iris.append(tsne.kl_divergence_)\n",
    "        tsne_data = np.vstack((tsne_data.T, labels)).T\n",
    "        df = pd.DataFrame(data=tsne_data, columns=(\"dim1\", \"dim2\", \"Label\"))\n",
    "        sns.scatterplot(x=df['dim1'], y=df['dim2'], hue=df[\"Label\"], ax=ax[idx], s=100,palette='colorblind').set_title(\"t-SNE with perplexity=\"+str(p))\n",
    "    plt.show()"
   ]
  },
  {
   "cell_type": "code",
   "execution_count": null,
   "id": "8bdfe335",
   "metadata": {},
   "outputs": [],
   "source": []
  },
  {
   "cell_type": "code",
   "execution_count": null,
   "id": "9c408571",
   "metadata": {},
   "outputs": [],
   "source": []
  },
  {
   "cell_type": "markdown",
   "id": "84eeb566",
   "metadata": {},
   "source": [
    "### Q.9\n",
    "\n",
    "Build recommendation mechanism to find if given observation is an outlier."
   ]
  },
  {
   "cell_type": "code",
   "execution_count": null,
   "id": "79f17c21",
   "metadata": {},
   "outputs": [],
   "source": []
  },
  {
   "cell_type": "code",
   "execution_count": null,
   "id": "c9f0d24d",
   "metadata": {},
   "outputs": [],
   "source": []
  },
  {
   "cell_type": "code",
   "execution_count": 79,
   "id": "9f3461e5",
   "metadata": {},
   "outputs": [],
   "source": [
    "def predict_outlier_pokemon():\n",
    "    to_predict = [\n",
    "        # add features here\n",
    "    ]\n",
    "    predicted_value = model.predict([to_predict])[0]\n",
    "    # get decision"
   ]
  },
  {
   "cell_type": "code",
   "execution_count": 6,
   "id": "dc339ebd",
   "metadata": {},
   "outputs": [],
   "source": [
    "# predict_outlier_pokemon(model, 500, 100, 50, 70, 70)"
   ]
  },
  {
   "cell_type": "code",
   "execution_count": 7,
   "id": "5421565d",
   "metadata": {},
   "outputs": [],
   "source": [
    "# predict_outlier_pokemon(model, 200, 65, 40, 15,80)"
   ]
  },
  {
   "cell_type": "code",
   "execution_count": null,
   "id": "dca0dc62",
   "metadata": {},
   "outputs": [],
   "source": []
  }
 ],
 "metadata": {
  "kernelspec": {
   "display_name": "Python 3",
   "language": "python",
   "name": "python3"
  },
  "language_info": {
   "codemirror_mode": {
    "name": "ipython",
    "version": 3
   },
   "file_extension": ".py",
   "mimetype": "text/x-python",
   "name": "python",
   "nbconvert_exporter": "python",
   "pygments_lexer": "ipython3",
   "version": "3.8.8"
  }
 },
 "nbformat": 4,
 "nbformat_minor": 5
}
